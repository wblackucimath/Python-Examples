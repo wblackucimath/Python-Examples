{
 "cells": [
  {
   "cell_type": "markdown",
   "id": "cce1a941",
   "metadata": {},
   "source": [
    "# Quick Start\n",
    "Here are a few examples to get you started using Python, Numpy, and Matplotlib "
   ]
  },
  {
   "cell_type": "markdown",
   "id": "eb4bbc5b",
   "metadata": {},
   "source": [
    "## Imports\n",
    "A good strategy to keep code organized is to import your packages all at the beginning of your file."
   ]
  },
  {
   "cell_type": "code",
   "execution_count": 1,
   "id": "a6e30984",
   "metadata": {},
   "outputs": [],
   "source": [
    "import numpy as np \n",
    "# this makes np refer to numpy, so you only have to type the two letters rather than five.\n",
    "\n",
    "import matplotlib.pyplot as plt \n",
    "# The shortening of the name is more necessary for this package. \n",
    "\n",
    "from numpy.polynomial import polynomial as poly\n",
    "import time\n",
    "from tqdm.notebook import tqdm \n",
    "# If running in a python .py script (not an .ipynb notebook), use:\n",
    "# from tqdm import tqdm"
   ]
  },
  {
   "cell_type": "markdown",
   "id": "b523dc1c-234d-4c0f-bcd7-414ec8f23ed2",
   "metadata": {},
   "source": [
    "## Numpy Basics\n",
    "The basic datatype for Numpy is a Numpy Array. This is like a vector or a matrix. Here are a few examples:"
   ]
  },
  {
   "cell_type": "code",
   "execution_count": 2,
   "id": "7f99852d-809d-4d08-b426-337f3da83405",
   "metadata": {},
   "outputs": [
    {
     "data": {
      "text/plain": [
       "array([0, 1, 2, 3, 4, 5, 6, 7, 8, 9])"
      ]
     },
     "execution_count": 2,
     "metadata": {},
     "output_type": "execute_result"
    }
   ],
   "source": [
    "np.arange(10) # Notice how the indices go from 0 to N-1"
   ]
  },
  {
   "cell_type": "code",
   "execution_count": 3,
   "id": "7317fe32-00b5-43b5-8cc6-7bd843e06909",
   "metadata": {},
   "outputs": [
    {
     "data": {
      "text/plain": [
       "array([0.  , 0.01, 0.02, 0.03, 0.04, 0.05, 0.06, 0.07, 0.08, 0.09, 0.1 ,\n",
       "       0.11, 0.12, 0.13, 0.14, 0.15, 0.16, 0.17, 0.18, 0.19, 0.2 , 0.21,\n",
       "       0.22, 0.23, 0.24, 0.25, 0.26, 0.27, 0.28, 0.29, 0.3 , 0.31, 0.32,\n",
       "       0.33, 0.34, 0.35, 0.36, 0.37, 0.38, 0.39, 0.4 , 0.41, 0.42, 0.43,\n",
       "       0.44, 0.45, 0.46, 0.47, 0.48, 0.49, 0.5 , 0.51, 0.52, 0.53, 0.54,\n",
       "       0.55, 0.56, 0.57, 0.58, 0.59, 0.6 , 0.61, 0.62, 0.63, 0.64, 0.65,\n",
       "       0.66, 0.67, 0.68, 0.69, 0.7 , 0.71, 0.72, 0.73, 0.74, 0.75, 0.76,\n",
       "       0.77, 0.78, 0.79, 0.8 , 0.81, 0.82, 0.83, 0.84, 0.85, 0.86, 0.87,\n",
       "       0.88, 0.89, 0.9 , 0.91, 0.92, 0.93, 0.94, 0.95, 0.96, 0.97, 0.98,\n",
       "       0.99, 1.  ])"
      ]
     },
     "execution_count": 3,
     "metadata": {},
     "output_type": "execute_result"
    }
   ],
   "source": [
    "dx = 0.01\n",
    "xmin, xmax = 0., 1. #adding the decimal forces floting point values\n",
    "np.linspace(xmin, xmax, num=1+int((xmax-xmin)/dx))"
   ]
  },
  {
   "cell_type": "code",
   "execution_count": 4,
   "id": "ebcf5ac6-ea5f-4fb0-93c7-be2de57ef72a",
   "metadata": {},
   "outputs": [
    {
     "data": {
      "text/plain": [
       "array([[0.46769708, 0.9683692 , 0.36825409],\n",
       "       [0.78489391, 0.76482999, 0.13609324],\n",
       "       [0.55680977, 0.76747202, 0.28292125],\n",
       "       [0.65501087, 0.67815197, 0.67362332]])"
      ]
     },
     "execution_count": 4,
     "metadata": {},
     "output_type": "execute_result"
    }
   ],
   "source": [
    "np.random.rand(4,3)"
   ]
  },
  {
   "cell_type": "markdown",
   "id": "ec57249b",
   "metadata": {},
   "source": [
    "## Python and Numpy Can Be Used as a Calculator"
   ]
  },
  {
   "cell_type": "code",
   "execution_count": 5,
   "id": "1b55b332",
   "metadata": {},
   "outputs": [
    {
     "name": "stdout",
     "output_type": "stream",
     "text": [
      "True\n",
      "True\n",
      "True\n",
      "True\n",
      "True\n",
      "True\n",
      "True\n",
      "True\n",
      "True\n",
      "True\n"
     ]
    }
   ],
   "source": [
    "for idx in range(1, 11):\n",
    "    tempvector = np.arange(1,1+idx)\n",
    "    print(np.sum(tempvector) == idx * (idx + 1) / 2)"
   ]
  },
  {
   "cell_type": "code",
   "execution_count": 6,
   "id": "0e422106-e8bf-4f51-b25e-debe4d1fb55b",
   "metadata": {},
   "outputs": [
    {
     "data": {
      "text/plain": [
       "1.0"
      ]
     },
     "execution_count": 6,
     "metadata": {},
     "output_type": "execute_result"
    }
   ],
   "source": [
    "np.sin(np.pi/2)"
   ]
  },
  {
   "cell_type": "code",
   "execution_count": 7,
   "id": "182adc3f-37c0-4661-aaca-abcd9733ab0d",
   "metadata": {},
   "outputs": [
    {
     "data": {
      "text/plain": [
       "(-1+1.2246467991473532e-16j)"
      ]
     },
     "execution_count": 7,
     "metadata": {},
     "output_type": "execute_result"
    }
   ],
   "source": [
    "np.exp(np.pi * 1j) # There is a little bit of floating point error"
   ]
  },
  {
   "cell_type": "markdown",
   "id": "9344662b-7d8e-45f0-a20c-1d6da02e0459",
   "metadata": {},
   "source": [
    "## Plotting\n",
    "This notebook only discusses Matplotlib, but [Seaborn](https://seaborn.pydata.org/) is also a useful plotting package."
   ]
  },
  {
   "cell_type": "code",
   "execution_count": 8,
   "id": "854f6255-0d7b-42f4-845f-ff9b44bdef2c",
   "metadata": {},
   "outputs": [
    {
     "data": {
      "image/png": "[encoded data removed]",
      "text/plain": [
       "<Figure size 432x288 with 1 Axes>"
      ]
     },
     "metadata": {
      "needs_background": "light"
     },
     "output_type": "display_data"
    }
   ],
   "source": [
    "dx = 0.01\n",
    "xmin, xmax = -1., 2. #adding the decimal forces floting point values\n",
    "xvec = np.linspace(xmin, xmax, num=1+int((xmax-xmin)/dx))\n",
    "plt.title(r\"$y=x^2$ on the interval $[-1. 2]$\")\n",
    "plt.grid()\n",
    "plt.axhline(color=\"g\")\n",
    "plt.axvline(color=\"r\")\n",
    "plt.plot(xvec, xvec**2, \"-.k\"); #\n",
    "# Plot the quadratic curve on the interval with the \"dash dot\" style and black color\n",
    "plt.tight_layout()\n",
    "# plt.savefig(\"testquadratic.pdf\") # Matplotlib looks at the filetype you specify in the filename."
   ]
  },
  {
   "cell_type": "markdown",
   "id": "418898cd-1ba1-4ad0-b90b-b554827d5d12",
   "metadata": {},
   "source": [
    "## Polynomials\n",
    "My personal opinion is that this library is so usefual for math, that it needs its own section here."
   ]
  },
  {
   "cell_type": "markdown",
   "id": "b5174549-6df0-4ed9-bb27-9ad481c1f6df",
   "metadata": {},
   "source": [
    "Polynomials can be created by specifying either their roots or their coefficients:"
   ]
  },
  {
   "cell_type": "code",
   "execution_count": 9,
   "id": "ded54514-86ca-455f-9a4f-b45b2f8b79f3",
   "metadata": {},
   "outputs": [
    {
     "data": {
      "image/png": "[encoded data removed]",
      "text/plain": [
       "<Figure size 432x288 with 1 Axes>"
      ]
     },
     "metadata": {
      "needs_background": "light"
     },
     "output_type": "display_data"
    }
   ],
   "source": [
    "fibcoeffs = (-1, -1, 1)\n",
    "fibpoly = poly.Polynomial(fibcoeffs)\n",
    "fibroots = 0.5 + np.array([np.sqrt(5), -np.sqrt(5)]) / 2.\n",
    "plt.grid()\n",
    "plt.axhline(color=\"k\")\n",
    "plt.axvline(color=\"k\")\n",
    "plt.plot(xvec, fibpoly(xvec))\n",
    "plt.scatter(fibroots, np.zeros_like(fibroots), s = (100,100), c = \"k\")\n",
    "plt.annotate(r\"$\\left ( \\frac{1 + \\sqrt{5}}{2}, 0\\right )$\", (fibroots[0] - 0.5, 0.1)); \n",
    "# Semicolon suppresses text output, like in Matlab\n",
    "plt.annotate(r\"$\\left ( \\frac{1 - \\sqrt{5}}{2}, 0\\right )$\", (fibroots[1] + 0.1, 0.1)); \n",
    "plt.tight_layout()"
   ]
  },
  {
   "cell_type": "markdown",
   "id": "a8056d0d-5828-4139-915f-82243ba8ca9d",
   "metadata": {},
   "source": [
    "plt.close(plt.gcf())"
   ]
  },
  {
   "cell_type": "markdown",
   "id": "d1d51839-b79f-47ee-8700-f805a5ce3448",
   "metadata": {},
   "source": [
    "numpy.polynomial.polynomial.polyfromroots returns the coefficients for the monic polynomial with the given roots. The Polynomial class supports scalar multiplication."
   ]
  },
  {
   "cell_type": "markdown",
   "id": "64282200-ee33-4ce5-bbaf-84c8bd4a093b",
   "metadata": {},
   "source": [
    "$$\\sin x = x \\prod_{n = 1}^{\\infty} \\left ( 1 - \\frac{x^2}{n^2 \\pi^2} \\right ) \\quad \\text{(Euler)}$$"
   ]
  },
  {
   "cell_type": "code",
   "execution_count": 10,
   "id": "2b1fca5b-ad8d-4a50-bba0-4ef6f6aedd7b",
   "metadata": {},
   "outputs": [
    {
     "data": {
      "image/png": "[encoded data removed]",
      "text/plain": [
       "<Figure size 432x288 with 1 Axes>"
      ]
     },
     "metadata": {
      "needs_background": "light"
     },
     "output_type": "display_data"
    }
   ],
   "source": [
    "dx = 0.01\n",
    "xmin, xmax = -15, 15 #adding the decimal forces floting point values\n",
    "xvec = np.linspace(xmin, xmax, num=1+int((xmax-xmin)/dx))\n",
    "R = 78\n",
    "roots = np.pi * np.arange(-R, R +1)\n",
    "p = poly.Polynomial(poly.polyfromroots(roots)) / np.prod(roots[roots != 0])\n",
    "plt.grid()\n",
    "plt.axhline(color=\"k\")\n",
    "plt.axvline(color=\"k\")\n",
    "plt.plot(xvec, np.sin(xvec), label=r\"$\\sin x$\");\n",
    "plt.plot(xvec, p(xvec), label=\"p(x)\");\n",
    "plt.legend(loc=\"upper center\");\n",
    "plt.tight_layout()"
   ]
  },
  {
   "cell_type": "code",
   "execution_count": 11,
   "id": "1ba281a7-6c4b-402c-9842-139c1501186f",
   "metadata": {},
   "outputs": [],
   "source": [
    "plt.close(plt.gcf())"
   ]
  },
  {
   "cell_type": "markdown",
   "id": "4bb8d522-1678-435d-a6f9-6f2d486531b4",
   "metadata": {},
   "source": [
    "You can also add, subtract, and multiply polynomials (division can also be done but is not as straightforward):"
   ]
  },
  {
   "cell_type": "code",
   "execution_count": 12,
   "id": "d71ccd58-6d86-4398-8217-fb3d473e33e6",
   "metadata": {},
   "outputs": [
    {
     "data": {
      "image/png": "[encoded data removed]",
      "text/plain": [
       "<Figure size 432x288 with 1 Axes>"
      ]
     },
     "metadata": {
      "needs_background": "light"
     },
     "output_type": "display_data"
    }
   ],
   "source": [
    "dx = 0.01\n",
    "xmin, xmax = -1, 1 #adding the decimal forces floting point values\n",
    "xvec = np.linspace(xmin, xmax, num=1+int((xmax-xmin)/dx))\n",
    "p1 = poly.Polynomial(2 * np.random.rand(3) - 1)\n",
    "p2 = poly.Polynomial(2 * np.random.rand(3) - 1)\n",
    "p3 = p1 * p2 \n",
    "# Note how we are multiplying the polynomial objects and not the\n",
    "# floating point results of evaluation of the polynomials.\n",
    "plt.grid()\n",
    "plt.axhline(color=\"k\")\n",
    "plt.axvline(color=\"k\")\n",
    "plt.title(\"Product of Random Quadratic Polynomials\")\n",
    "plt.plot(xvec, p3(xvec));\n",
    "plt.tight_layout()"
   ]
  },
  {
   "cell_type": "code",
   "execution_count": 13,
   "id": "cfae12ae-0e2c-46be-8a5b-c6e87ef3b070",
   "metadata": {},
   "outputs": [],
   "source": [
    "plt.close(plt.gcf())"
   ]
  },
  {
   "cell_type": "markdown",
   "id": "69652a67-392c-4ce0-9ef2-9b9486625b79",
   "metadata": {},
   "source": [
    "## Array Slicing and Masking\n",
    "Array slicing and masking allow you to access portions of a numpy array. They are in general very fast operations."
   ]
  },
  {
   "cell_type": "code",
   "execution_count": 14,
   "id": "da348322-bcad-49d8-a415-ccc949b77f4e",
   "metadata": {},
   "outputs": [
    {
     "data": {
      "text/plain": [
       "array([-96, -94, -92, -90, -88, -86, -84, -82, -80, -78, -76, -74, -72])"
      ]
     },
     "execution_count": 14,
     "metadata": {},
     "output_type": "execute_result"
    }
   ],
   "source": [
    "a = np.arange(-100,101)\n",
    "a[4:30:2]"
   ]
  },
  {
   "cell_type": "code",
   "execution_count": 15,
   "id": "2d0be405-31f9-453b-9d36-64b345a0cb0d",
   "metadata": {},
   "outputs": [
    {
     "data": {
      "text/plain": [
       "array([-27, -26, -25, -24, -23, -22, -21, -20, -19, -18, -17, -16, -15,\n",
       "       -14, -13, -12, -11, -10,  -9,  -8,  -7,  -6,  -5,  -4,  -3,  -2,\n",
       "        -1,   0,   1,   2,   3,   4,   5,   6,   7,   8,   9,  10,  11,\n",
       "        12,  13,  14,  15,  16,  17,  18,  19,  20,  21,  22,  23,  24,\n",
       "        25,  26,  27,  28,  29,  30,  31,  32,  33,  34,  35,  36,  37,\n",
       "        38,  39,  40,  41,  42,  43,  44,  45,  46,  47,  48,  49,  50,\n",
       "        51,  52,  53,  54,  55,  56,  57,  58,  59,  60,  61,  62,  63])"
      ]
     },
     "execution_count": 15,
     "metadata": {},
     "output_type": "execute_result"
    }
   ],
   "source": [
    "a[np.abs(a-18)<46 ]"
   ]
  },
  {
   "cell_type": "markdown",
   "id": "84fad6bc-e94e-4b29-8de9-72910a9d80c2",
   "metadata": {},
   "source": [
    "## Passing Functions to other Functions"
   ]
  },
  {
   "cell_type": "code",
   "execution_count": 16,
   "id": "4c698e8f-6426-4117-b11a-a17bbed4b1c9",
   "metadata": {},
   "outputs": [
    {
     "data": {
      "image/png": "[encoded data removed]",
      "text/plain": [
       "<Figure size 432x288 with 1 Axes>"
      ]
     },
     "metadata": {
      "needs_background": "light"
     },
     "output_type": "display_data"
    }
   ],
   "source": [
    "f = np.exp\n",
    "dtype = np.float64\n",
    "exps = np.arange(1, 8, dtype=dtype)\n",
    "def simpson(f, a, b, dt, dtype=dtype): \n",
    "    # The first argument of simpson is the function whose\n",
    "    # integral is to be approximated.\n",
    "    T = np.linspace(a, b, num = 1 + int((b - a)/dt), dtype=dtype)\n",
    "    if T.size%2 != 1:\n",
    "        T = np.linspace(a, b, num = 2 + int((b - a)/dt))\n",
    "    sum1 = 2 * np.sum(f(T[2:-1:2]))\n",
    "    sum2 = 4 * np.sum(f(T[1::2]))\n",
    "    return (f(a) + sum1 + sum2 + f(b)) * dt / 3\n",
    "results = (np.abs(simpson(f, 0., 1., 10.**(-idx)) -  np.e + 1) for idx in exps)\n",
    "# This is a generator expression\n",
    "results = np.fromiter(results, dtype=dtype)\n",
    "plt.grid()\n",
    "def asymp(x): return x**-5 # This syntax is preferable to lambda expressions in Python.\n",
    "plt.loglog(exps, asymp(exps) * results[0] * exps[0]**5);\n",
    "plt.loglog(exps, results);\n",
    "plt.tight_layout()"
   ]
  },
  {
   "cell_type": "code",
   "execution_count": 17,
   "id": "6cba58b2-0804-4aaa-aa7e-f91157a2ea22",
   "metadata": {},
   "outputs": [],
   "source": [
    "plt.close(plt.gcf())"
   ]
  },
  {
   "cell_type": "markdown",
   "id": "7658fc25-2702-4b4a-a5a8-38dc38afcf75",
   "metadata": {},
   "source": [
    "## Numpy is ***Much*** Faster than Native Python"
   ]
  },
  {
   "cell_type": "code",
   "execution_count": 18,
   "id": "a161364a-9063-47ce-b537-67ae56da16a5",
   "metadata": {},
   "outputs": [
    {
     "name": "stdout",
     "output_type": "stream",
     "text": [
      "The pure Python sum took 19.15 seconds.\n"
     ]
    }
   ],
   "source": [
    "tic = time.perf_counter()\n",
    "pythonsum = sum(range(10**9))\n",
    "toc = time.perf_counter()\n",
    "print(f\"The pure Python sum took {toc - tic:.2f} seconds.\") # F-strings are useful."
   ]
  },
  {
   "cell_type": "code",
   "execution_count": 19,
   "id": "0cbf5ae5-9a33-4885-a97b-af0991c7baa8",
   "metadata": {},
   "outputs": [
    {
     "name": "stdout",
     "output_type": "stream",
     "text": [
      "The Numpy sum took 5.41 seconds.\n"
     ]
    }
   ],
   "source": [
    "tic = time.perf_counter()\n",
    "pythonsum = np.sum(np.arange(10**9))\n",
    "toc = time.perf_counter()\n",
    "print(f\"The Numpy sum took {toc - tic:.2f} seconds.\")"
   ]
  },
  {
   "cell_type": "markdown",
   "id": "d20d8467-3479-4b29-8e2e-423f3c385ab7",
   "metadata": {},
   "source": [
    "## Loading Bars\n",
    "Tqdm is an easy way to add loading bars to your for loops."
   ]
  },
  {
   "cell_type": "code",
   "execution_count": 20,
   "id": "83e66dec-4ef0-4f00-86e7-fcfc3a18b978",
   "metadata": {},
   "outputs": [
    {
     "data": {
      "application/vnd.jupyter.widget-view+json": {
       "model_id": "c45b6f643abe415082d461bbbcb34c6e",
       "version_major": 2,
       "version_minor": 0
      },
      "text/plain": [
       "  0%|          | 0/100 [00:00<?, ?it/s]"
      ]
     },
     "metadata": {},
     "output_type": "display_data"
    }
   ],
   "source": [
    "for i in tqdm(range(100)):\n",
    "    time.sleep(.05)"
   ]
  }
 ],
 "metadata": {
  "kernelspec": {
   "display_name": "Python 3 (ipykernel)",
   "language": "python",
   "name": "python3"
  },
  "language_info": {
   "codemirror_mode": {
    "name": "ipython",
    "version": 3
   },
   "file_extension": ".py",
   "mimetype": "text/x-python",
   "name": "python",
   "nbconvert_exporter": "python",
   "pygments_lexer": "ipython3",
   "version": "3.9.9"
  }
 },
 "nbformat": 4,
 "nbformat_minor": 5
}
