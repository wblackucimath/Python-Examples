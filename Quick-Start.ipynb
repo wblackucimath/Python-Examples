{
 "cells": [
  {
   "cell_type": "markdown",
   "id": "cce1a941",
   "metadata": {},
   "source": [
    "# Quick Start\n",
    "Here are a few examples to get you started using Python, Numpy, and Matplotlib "
   ]
  },
  {
   "cell_type": "markdown",
   "id": "eb4bbc5b",
   "metadata": {},
   "source": [
    "## Imports\n",
    "A good strategy to keep code organized is to import your packages all at the beginning of your file."
   ]
  },
  {
   "cell_type": "code",
   "execution_count": 40,
   "id": "a6e30984",
   "metadata": {},
   "outputs": [],
   "source": [
    "import numpy as np # this makes np refer to numpy, so you only have to type the two letters rather than five\n",
    "import matplotlib.pyplot as plt # The shortening of the name is more necessary for this package. \n",
    "from numpy.polynomial import polynomial as poly"
   ]
  },
  {
   "cell_type": "markdown",
   "id": "b523dc1c-234d-4c0f-bcd7-414ec8f23ed2",
   "metadata": {},
   "source": [
    "## Numpy Basics\n",
    "The basic datatype for Numpy is a Numpy Array. This is like a vector or a matrix. Here are a few examples:"
   ]
  },
  {
   "cell_type": "code",
   "execution_count": 20,
   "id": "7f99852d-809d-4d08-b426-337f3da83405",
   "metadata": {},
   "outputs": [
    {
     "data": {
      "text/plain": [
       "array([0, 1, 2, 3, 4, 5, 6, 7, 8, 9])"
      ]
     },
     "execution_count": 20,
     "metadata": {},
     "output_type": "execute_result"
    }
   ],
   "source": [
    "np.arange(10) # Notice how the indices go from 0 to N-1"
   ]
  },
  {
   "cell_type": "code",
   "execution_count": 21,
   "id": "7317fe32-00b5-43b5-8cc6-7bd843e06909",
   "metadata": {},
   "outputs": [
    {
     "data": {
      "text/plain": [
       "array([0.  , 0.01, 0.02, 0.03, 0.04, 0.05, 0.06, 0.07, 0.08, 0.09, 0.1 ,\n",
       "       0.11, 0.12, 0.13, 0.14, 0.15, 0.16, 0.17, 0.18, 0.19, 0.2 , 0.21,\n",
       "       0.22, 0.23, 0.24, 0.25, 0.26, 0.27, 0.28, 0.29, 0.3 , 0.31, 0.32,\n",
       "       0.33, 0.34, 0.35, 0.36, 0.37, 0.38, 0.39, 0.4 , 0.41, 0.42, 0.43,\n",
       "       0.44, 0.45, 0.46, 0.47, 0.48, 0.49, 0.5 , 0.51, 0.52, 0.53, 0.54,\n",
       "       0.55, 0.56, 0.57, 0.58, 0.59, 0.6 , 0.61, 0.62, 0.63, 0.64, 0.65,\n",
       "       0.66, 0.67, 0.68, 0.69, 0.7 , 0.71, 0.72, 0.73, 0.74, 0.75, 0.76,\n",
       "       0.77, 0.78, 0.79, 0.8 , 0.81, 0.82, 0.83, 0.84, 0.85, 0.86, 0.87,\n",
       "       0.88, 0.89, 0.9 , 0.91, 0.92, 0.93, 0.94, 0.95, 0.96, 0.97, 0.98,\n",
       "       0.99, 1.  ])"
      ]
     },
     "execution_count": 21,
     "metadata": {},
     "output_type": "execute_result"
    }
   ],
   "source": [
    "dx = 0.01\n",
    "xmin, xmax = 0., 1. #adding the decimal forces floting point values\n",
    "np.linspace(xmin, xmax, num=1+int((xmax-xmin)/dx))"
   ]
  },
  {
   "cell_type": "code",
   "execution_count": 22,
   "id": "ebcf5ac6-ea5f-4fb0-93c7-be2de57ef72a",
   "metadata": {},
   "outputs": [
    {
     "data": {
      "text/plain": [
       "array([[0.62033408, 0.00538828, 0.03197752],\n",
       "       [0.25445659, 0.21311951, 0.06595596],\n",
       "       [0.30644142, 0.8036972 , 0.8694404 ],\n",
       "       [0.59172501, 0.86968413, 0.21025679]])"
      ]
     },
     "execution_count": 22,
     "metadata": {},
     "output_type": "execute_result"
    }
   ],
   "source": [
    "np.random.rand(4,3)"
   ]
  },
  {
   "cell_type": "markdown",
   "id": "ec57249b",
   "metadata": {},
   "source": [
    "## Python and Numpy Can Be Used as a Calculator"
   ]
  },
  {
   "cell_type": "code",
   "execution_count": 23,
   "id": "1b55b332",
   "metadata": {},
   "outputs": [
    {
     "name": "stdout",
     "output_type": "stream",
     "text": [
      "True\n",
      "True\n",
      "True\n",
      "True\n",
      "True\n",
      "True\n",
      "True\n",
      "True\n",
      "True\n",
      "True\n"
     ]
    }
   ],
   "source": [
    "for idx in range(1, 11):\n",
    "    tempvector = np.arange(1,1+idx)\n",
    "    print(np.sum(tempvector) == idx * (idx + 1) / 2)"
   ]
  },
  {
   "cell_type": "code",
   "execution_count": 24,
   "id": "0e422106-e8bf-4f51-b25e-debe4d1fb55b",
   "metadata": {},
   "outputs": [
    {
     "data": {
      "text/plain": [
       "1.0"
      ]
     },
     "execution_count": 24,
     "metadata": {},
     "output_type": "execute_result"
    }
   ],
   "source": [
    "np.sin(np.pi/2)"
   ]
  },
  {
   "cell_type": "code",
   "execution_count": 25,
   "id": "182adc3f-37c0-4661-aaca-abcd9733ab0d",
   "metadata": {},
   "outputs": [
    {
     "data": {
      "text/plain": [
       "(-1+1.2246467991473532e-16j)"
      ]
     },
     "execution_count": 25,
     "metadata": {},
     "output_type": "execute_result"
    }
   ],
   "source": [
    "np.exp(np.pi * 1j) # There is a little bit of floating point error"
   ]
  },
  {
   "cell_type": "markdown",
   "id": "9344662b-7d8e-45f0-a20c-1d6da02e0459",
   "metadata": {},
   "source": [
    "## Plotting\n",
    "This notebook only discusses Matplotlib, but [Seaborn](https://seaborn.pydata.org/) is also a useful plotting package."
   ]
  },
  {
   "cell_type": "code",
   "execution_count": 39,
   "id": "854f6255-0d7b-42f4-845f-ff9b44bdef2c",
   "metadata": {},
   "outputs": [
    {
     "data": {
      "text/plain": [
       "[<matplotlib.lines.Line2D at 0x7f6dae886190>]"
      ]
     },
     "execution_count": 39,
     "metadata": {},
     "output_type": "execute_result"
    },
    {
     "data": {
      "image/png": "[encoded data removed]",
      "text/plain": [
       "<Figure size 432x288 with 1 Axes>"
      ]
     },
     "metadata": {
      "needs_background": "light"
     },
     "output_type": "display_data"
    }
   ],
   "source": [
    "dx = 0.01\n",
    "xmin, xmax = -1., 2. #adding the decimal forces floting point values\n",
    "xvec = np.linspace(xmin, xmax, num=1+int((xmax-xmin)/dx))\n",
    "plt.title(r\"$y=x^2$ on the interval $[-1. 2]$\")\n",
    "plt.grid()\n",
    "plt.axhline(color=\"g\")\n",
    "plt.axvline(color=\"r\")\n",
    "plt.plot(xvec, xvec**2, \"-.k\") # Plot the quadratic curve on the interval with the \"dash dot\" style and black color\n",
    "# plt.savefig(\"testquadratic.pdf\") # Matplotlib looks at the filetype you specify in the filename."
   ]
  },
  {
   "cell_type": "markdown",
   "id": "418898cd-1ba1-4ad0-b90b-b554827d5d12",
   "metadata": {},
   "source": [
    "## Polynomials\n",
    "My personal opinion is that this library is so usefual for math, that it needs its own section here."
   ]
  },
  {
   "cell_type": "markdown",
   "id": "b5174549-6df0-4ed9-bb27-9ad481c1f6df",
   "metadata": {},
   "source": [
    "Polynomials can be created by specifying either their roots or their coefficients:"
   ]
  },
  {
   "cell_type": "code",
   "execution_count": 98,
   "id": "ded54514-86ca-455f-9a4f-b45b2f8b79f3",
   "metadata": {},
   "outputs": [
    {
     "data": {
      "image/png": "[encoded data removed]",
      "text/plain": [
       "<Figure size 432x288 with 1 Axes>"
      ]
     },
     "metadata": {
      "needs_background": "light"
     },
     "output_type": "display_data"
    }
   ],
   "source": [
    "fibcoeffs = (-1, -1, 1)\n",
    "fibpoly = poly.Polynomial(fibcoeffs)\n",
    "fibroots = 0.5 + np.array([np.sqrt(5), -np.sqrt(5)]) / 2.\n",
    "plt.grid()\n",
    "plt.axhline(color=\"k\")\n",
    "plt.axvline(color=\"k\")\n",
    "plt.plot(xvec, fibpoly(xvec))\n",
    "plt.scatter(fibroots, np.zeros_like(fibroots), s = (100,100), c = \"k\")\n",
    "plt.annotate(r\"$\\left ( \\frac{1 + \\sqrt{5}}{2}, 0\\right )$\", (fibroots[0] - 0.5, 0.1)); # Semicolon suppresses output, like in Matlab\n",
    "plt.annotate(r\"$\\left ( \\frac{1 - \\sqrt{5}}{2}, 0\\right )$\", (fibroots[1] + 0.1, 0.1)); "
   ]
  },
  {
   "cell_type": "code",
   "execution_count": 99,
   "id": "d542b420-f5fb-446c-a673-fe8d13681e05",
   "metadata": {},
   "outputs": [],
   "source": [
    "plt.close(plt.gcf())"
   ]
  },
  {
   "cell_type": "code",
   "execution_count": 120,
   "id": "2b1fca5b-ad8d-4a50-bba0-4ef6f6aedd7b",
   "metadata": {},
   "outputs": [
    {
     "data": {
      "image/png": "[encoded data removed]",
      "text/plain": [
       "<Figure size 432x288 with 1 Axes>"
      ]
     },
     "metadata": {
      "needs_background": "light"
     },
     "output_type": "display_data"
    }
   ],
   "source": [
    "dx = 0.01\n",
    "xmin, xmax = -10, 10 #adding the decimal forces floting point values\n",
    "xvec = np.linspace(xmin, xmax, num=1+int((xmax-xmin)/dx))\n",
    "roots = np.pi * np.arange(-4, 5)\n",
    "p = poly.Polynomial(poly.polyfromroots(roots))\n",
    "#plt.ylim((-10,10))\n",
    "plt.grid()\n",
    "plt.axhline(color=\"k\")\n",
    "plt.axvline(color=\"k\")\n",
    "plt.plot(xvec, p(xvec));"
   ]
  },
  {
   "cell_type": "markdown",
   "id": "4bb8d522-1678-435d-a6f9-6f2d486531b4",
   "metadata": {},
   "source": [
    "You can also add, subtract, and multiply polynomials (division can also be done but is not as straightforward):"
   ]
  },
  {
   "cell_type": "code",
   "execution_count": 127,
   "id": "d71ccd58-6d86-4398-8217-fb3d473e33e6",
   "metadata": {},
   "outputs": [
    {
     "data": {
      "image/png": "[encoded data removed]",
      "text/plain": [
       "<Figure size 432x288 with 1 Axes>"
      ]
     },
     "metadata": {
      "needs_background": "light"
     },
     "output_type": "display_data"
    }
   ],
   "source": [
    "p1 = poly.Polynomial([-1, -1, 1])\n",
    "p2 = poly.Polynomial([9,26,8])\n",
    "plt.plot(xvec, (p1 * p2)(xvec));"
   ]
  },
  {
   "cell_type": "code",
   "execution_count": null,
   "id": "ceb0b5a0-0e74-4f4d-b63c-29e3201d2b07",
   "metadata": {},
   "outputs": [],
   "source": []
  }
 ],
 "metadata": {
  "kernelspec": {
   "display_name": "Python 3 (ipykernel)",
   "language": "python",
   "name": "python3"
  },
  "language_info": {
   "codemirror_mode": {
    "name": "ipython",
    "version": 3
   },
   "file_extension": ".py",
   "mimetype": "text/x-python",
   "name": "python",
   "nbconvert_exporter": "python",
   "pygments_lexer": "ipython3",
   "version": "3.9.9"
  }
 },
 "nbformat": 4,
 "nbformat_minor": 5
}
