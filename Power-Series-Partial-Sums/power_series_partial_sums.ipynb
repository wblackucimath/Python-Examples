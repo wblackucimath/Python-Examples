{
 "cells": [
  {
   "cell_type": "code",
   "execution_count": 1,
   "id": "498ec183-df5a-4439-be6c-18158dbf0816",
   "metadata": {
    "jupyter": {
     "source_hidden": true
    },
    "tags": []
   },
   "outputs": [],
   "source": [
    "%matplotlib ipympl"
   ]
  },
  {
   "cell_type": "code",
   "execution_count": 2,
   "id": "bc55ffb9-1fe1-4c6a-b000-077116454a12",
   "metadata": {
    "jupyter": {
     "source_hidden": true
    },
    "tags": []
   },
   "outputs": [],
   "source": [
    "import mpmath as mpm\n",
    "import matplotlib.pyplot as plt\n",
    "import numpy as np\n",
    "from numpy.polynomial.polynomial import Polynomial\n",
    "from scipy.special import gamma\n",
    "import mpl_interactions.ipyplot as iplt\n",
    "import warnings\n",
    "warnings.filterwarnings('ignore')\n",
    "#from mpl_interactions import interactive_plot\n",
    "#from mpl_interactions import heatmap_slicer"
   ]
  },
  {
   "cell_type": "code",
   "execution_count": 3,
   "id": "c1433ca7-0242-4992-9390-e45da4eedf46",
   "metadata": {
    "jupyter": {
     "source_hidden": true
    },
    "tags": []
   },
   "outputs": [],
   "source": [
    "res = 200\n",
    "N = 200\n",
    "x = np.linspace(0,1, num=res, dtype=np.float64)\n",
    "k = np.arange(0,N+1)\n",
    "cycle_colors = plt.rcParams['axes.prop_cycle'].by_key()['color']\n",
    "plt.rcParams.update({\n",
    "    \"text.usetex\": False,\n",
    "#    \"font.family\": \"serif\",\n",
    "})"
   ]
  },
  {
   "cell_type": "code",
   "execution_count": 4,
   "id": "2cf6fb3c-0cef-4cb9-a2eb-004c56907925",
   "metadata": {
    "jupyter": {
     "source_hidden": true
    },
    "tags": []
   },
   "outputs": [],
   "source": [
    "def partial_sum_geom(x, N):\n",
    "    return Polynomial(np.ones(1+N))(x)"
   ]
  },
  {
   "cell_type": "code",
   "execution_count": 5,
   "id": "b085e65d-1491-44fe-9e12-81f2bb4635c4",
   "metadata": {
    "jupyter": {
     "source_hidden": true
    },
    "tags": []
   },
   "outputs": [
    {
     "data": {
      "application/vnd.jupyter.widget-view+json": {
       "model_id": "86984b9a6be84fcca8290c1007a27480",
       "version_major": 2,
       "version_minor": 0
      },
      "text/plain": [
       "Canvas(toolbar=Toolbar(toolitems=[('Home', 'Reset original view', 'home', 'home'), ('Back', 'Back to previous …"
      ]
     },
     "metadata": {},
     "output_type": "display_data"
    },
    {
     "data": {
      "application/vnd.jupyter.widget-view+json": {
       "model_id": "c66f572cdf4b40d5a1b609f0345acac5",
       "version_major": 2,
       "version_minor": 0
      },
      "text/plain": [
       "VBox(children=(HBox(children=(Play(value=0, max=200), IntSlider(value=0, description='N', max=200, readout=Fal…"
      ]
     },
     "metadata": {},
     "output_type": "display_data"
    }
   ],
   "source": [
    "fig, ax = plt.subplots()\n",
    "plt.grid()\n",
    "plt.subplots_adjust(bottom=0.25)\n",
    "xmin, xmax = -1.1, 1.1\n",
    "x = np.linspace(xmin, xmax, num=1 + int(res*(xmax - xmin)))\n",
    "\n",
    "symmx = np.linspace(-1, 1, 1 + 2 * res)\n",
    "plt.plot(symmx,1/(1-symmx), color=cycle_colors[1], label=\"Exact Function\")\n",
    "\n",
    "controls = iplt.plot(x,\n",
    "                     partial_sum_geom,\n",
    "                     \"-.\",\n",
    "                     N=k,\n",
    "                     ax=ax,\n",
    "                     ylim=[0, 20],\n",
    "                     color=cycle_colors[0],\n",
    "                     play_buttons=True,\n",
    "                     label=\"Partial Sum\",\n",
    "\n",
    ")\n",
    "_= iplt.ylabel(\"$y = \\sum_{{n=0}}^{{{N}}} x^n$\", controls = controls[\"N\"])\n",
    "\n",
    "plt.plot([-1], [.5], \"k.\")\n",
    "plt.legend(loc=\"upper left\")\n",
    "plt.tight_layout()\n",
    "plt.show()"
   ]
  },
  {
   "cell_type": "code",
   "execution_count": 6,
   "id": "9d82fdb5-dd1e-4388-b1ad-6c5de1e07044",
   "metadata": {
    "jupyter": {
     "source_hidden": true
    },
    "tags": []
   },
   "outputs": [],
   "source": [
    "# plt.close(plt.gcf())"
   ]
  },
  {
   "cell_type": "code",
   "execution_count": 7,
   "id": "c7b2d562-1bf1-4c4a-9064-74321fbfe803",
   "metadata": {
    "jupyter": {
     "source_hidden": true
    },
    "tags": []
   },
   "outputs": [],
   "source": [
    "def partial_sum_polylog(x, N):\n",
    "    coeffs = 1/np.arange(1+N)**2\n",
    "    coeffs[0] = 0\n",
    "    return Polynomial(coeffs)(x)\n",
    "\n",
    "\n",
    "def polyf(x):\n",
    "    polylog = np.frompyfunc(lambda x: mpm.polylog(2, x), 1, 1)\n",
    "    output = polylog(x)\n",
    "    return np.float32(output)"
   ]
  },
  {
   "cell_type": "code",
   "execution_count": 8,
   "id": "dc5c7c72-8cd5-4af6-9607-1a25169a76d9",
   "metadata": {
    "jupyter": {
     "source_hidden": true
    },
    "tags": []
   },
   "outputs": [
    {
     "data": {
      "application/vnd.jupyter.widget-view+json": {
       "model_id": "b265ea6ce0d145dc9b1e2ff727de8622",
       "version_major": 2,
       "version_minor": 0
      },
      "text/plain": [
       "Canvas(toolbar=Toolbar(toolitems=[('Home', 'Reset original view', 'home', 'home'), ('Back', 'Back to previous …"
      ]
     },
     "metadata": {},
     "output_type": "display_data"
    },
    {
     "data": {
      "application/vnd.jupyter.widget-view+json": {
       "model_id": "ce221c55766f43a79782be3df56d7748",
       "version_major": 2,
       "version_minor": 0
      },
      "text/plain": [
       "VBox(children=(HBox(children=(Play(value=0, max=200), IntSlider(value=0, description='N', max=200, readout=Fal…"
      ]
     },
     "metadata": {},
     "output_type": "display_data"
    }
   ],
   "source": [
    "fig, ax = plt.subplots()\n",
    "plt.grid()\n",
    "plt.subplots_adjust(bottom=0.25)#, left=0.2)\n",
    "symmx = np.linspace(-1, 1, num = 1 + 2 * res)\n",
    "plt.plot(symmx,polyf(symmx), label=\"Exact Function\", color=cycle_colors[1])\n",
    "xmin, xmax = -1.1, 1.1\n",
    "x = np.linspace(xmin, xmax, num=1 + int(res*(xmax - xmin)))\n",
    "\n",
    "\n",
    "\n",
    "\n",
    "controls = iplt.plot(x, partial_sum_polylog, \"-.\", N=k, ax=ax, ylim=[-1, 2], play_buttons=True, label=\"Partial Sum\", color=cycle_colors[0])\n",
    "controls1 = iplt.ylabel(\"$y = \\sum_{{n=1}}^{{{N}}} \\dfrac{{x^n}}{{n^2}}$\", controls = controls[\"N\"])#, backgroundcolor=\"w\")\n",
    "\n",
    "plt.plot([-1], [polyf(-1)], \"k.\")\n",
    "plt.plot([1], [polyf(1)], \"k.\")\n",
    "plt.legend(loc=\"upper left\")\n",
    "plt.tight_layout()\n",
    "plt.show()"
   ]
  },
  {
   "cell_type": "code",
   "execution_count": 9,
   "id": "2629e35e-1224-499c-b6e9-f25399acc536",
   "metadata": {
    "jupyter": {
     "source_hidden": true
    },
    "tags": []
   },
   "outputs": [],
   "source": [
    "# plt.close(plt.gcf())"
   ]
  },
  {
   "cell_type": "code",
   "execution_count": 10,
   "id": "6628a673-5afb-498e-bd89-80406479522f",
   "metadata": {
    "jupyter": {
     "source_hidden": true
    },
    "tags": []
   },
   "outputs": [],
   "source": [
    "def partial_sum_1plog(x, N):\n",
    "    coeffs = 1/np.arange(1+N)\n",
    "    coeffs[::2] *= -1\n",
    "    coeffs[0] = 0\n",
    "    return Polynomial(coeffs)(x)"
   ]
  },
  {
   "cell_type": "code",
   "execution_count": 11,
   "id": "423765f7-f5a2-4d33-a5bb-3597271cbd93",
   "metadata": {
    "jupyter": {
     "source_hidden": true
    },
    "tags": []
   },
   "outputs": [
    {
     "data": {
      "application/vnd.jupyter.widget-view+json": {
       "model_id": "d1eeabb8d5704ff7a35689eeef74ec74",
       "version_major": 2,
       "version_minor": 0
      },
      "text/plain": [
       "Canvas(toolbar=Toolbar(toolitems=[('Home', 'Reset original view', 'home', 'home'), ('Back', 'Back to previous …"
      ]
     },
     "metadata": {},
     "output_type": "display_data"
    },
    {
     "data": {
      "application/vnd.jupyter.widget-view+json": {
       "model_id": "2e24690ff46c4402a331915c61fbba7d",
       "version_major": 2,
       "version_minor": 0
      },
      "text/plain": [
       "VBox(children=(HBox(children=(Play(value=0, max=200), IntSlider(value=0, description='N', max=200, readout=Fal…"
      ]
     },
     "metadata": {},
     "output_type": "display_data"
    }
   ],
   "source": [
    "fig, ax = plt.subplots()\n",
    "plt.grid()\n",
    "plt.subplots_adjust(bottom=0.25)#, left=0.2)\n",
    "symmx = np.linspace(-1, 1, num = 1 + 2 * res)\n",
    "plt.plot(symmx,np.log(1+symmx), label=\"Exact Function\", color=cycle_colors[1])\n",
    "xmin, xmax = -1.1, 1.1\n",
    "x = np.linspace(xmin, xmax, num=1 + int(res*(xmax - xmin)))\n",
    "\n",
    "\n",
    "\n",
    "\n",
    "\n",
    "controls = iplt.plot(x, partial_sum_1plog, \"-.\", N=k, ax=ax, ylim=[-5, 2], play_buttons=True, label=\"Partial Sum\", color=cycle_colors[0])\n",
    "controls1 = iplt.ylabel(\"$y = \\sum_{{n=1}}^{{{N}}} (-1)^n \\dfrac{{x^n}}{{n}}$\", controls = controls[\"N\"])#, backgroundcolor=\"w\")\n",
    "\n",
    "plt.plot([1], [np.log(2)], \"k.\")\n",
    "plt.legend(loc=\"upper left\")\n",
    "plt.tight_layout()\n",
    "plt.show()"
   ]
  },
  {
   "cell_type": "code",
   "execution_count": 12,
   "id": "1711bca4-00a1-4084-8dbb-ace5030e7403",
   "metadata": {
    "jupyter": {
     "source_hidden": true
    },
    "tags": []
   },
   "outputs": [],
   "source": [
    "# plt.close(plt.gcf())"
   ]
  },
  {
   "cell_type": "code",
   "execution_count": 13,
   "id": "e11d7bf4-cf35-422b-9c09-1631c7351a4f",
   "metadata": {
    "jupyter": {
     "source_hidden": true
    },
    "tags": []
   },
   "outputs": [],
   "source": [
    "def partial_sum_darc(x, N):\n",
    "    coeffs = np.ones(1 + N)\n",
    "    coeffs[1::2] = 0\n",
    "    coeffs[2::4] *= -1\n",
    "    return Polynomial(coeffs)(x)"
   ]
  },
  {
   "cell_type": "code",
   "execution_count": 14,
   "id": "58dd0c8b-eb1e-4618-9d1a-adc85ee08acb",
   "metadata": {
    "jupyter": {
     "source_hidden": true
    },
    "tags": []
   },
   "outputs": [
    {
     "data": {
      "application/vnd.jupyter.widget-view+json": {
       "model_id": "32951067b1234eea9afac4b85b742f12",
       "version_major": 2,
       "version_minor": 0
      },
      "text/plain": [
       "Canvas(toolbar=Toolbar(toolitems=[('Home', 'Reset original view', 'home', 'home'), ('Back', 'Back to previous …"
      ]
     },
     "metadata": {},
     "output_type": "display_data"
    },
    {
     "data": {
      "application/vnd.jupyter.widget-view+json": {
       "model_id": "f9588558b28e4d699ccaece6eca5122f",
       "version_major": 2,
       "version_minor": 0
      },
      "text/plain": [
       "VBox(children=(HBox(children=(Play(value=0, max=200), IntSlider(value=0, description='N', max=200, readout=Fal…"
      ]
     },
     "metadata": {},
     "output_type": "display_data"
    }
   ],
   "source": [
    "fig, ax = plt.subplots()\n",
    "plt.grid()\n",
    "plt.subplots_adjust(bottom=0.25)#, left=0.2)\n",
    "symmx = np.linspace(-1, 1, num = 1 + 2 * res)\n",
    "plt.plot(symmx,1/(1+symmx**2), label=\"Exact Function\", color=cycle_colors[1])\n",
    "xmin, xmax = -1.1, 1.1\n",
    "x = np.linspace(xmin, xmax, num=1 + int(res*(xmax - xmin)))\n",
    "\n",
    "\n",
    "\n",
    "controls = iplt.plot(x, partial_sum_darc, \"-.\", N=k, ax=ax, ylim=[.5, 1.01], play_buttons=True, label=\"Partial Sum\", color=cycle_colors[0])\n",
    "controls1 = iplt.ylabel(\"$y = \\sum_{{n=0}}^{{{N}}} (-1)^n x^{{2n}}$\", controls = controls[\"N\"])#, backgroundcolor=\"w\")\n",
    "\n",
    "plt.plot([1], [.5], \"k.\")\n",
    "plt.plot([-1], [.5], \"k.\")\n",
    "plt.legend(loc=\"upper left\")\n",
    "plt.tight_layout()\n",
    "plt.show()"
   ]
  },
  {
   "cell_type": "code",
   "execution_count": 15,
   "id": "2beb7cf2-cab2-4616-8a54-43a42c4b410e",
   "metadata": {
    "jupyter": {
     "source_hidden": true
    },
    "tags": []
   },
   "outputs": [],
   "source": [
    "# plt.close(plt.gcf())"
   ]
  },
  {
   "cell_type": "code",
   "execution_count": 16,
   "id": "e8f7d93a-baea-4941-86b2-2b39d4ff9a5d",
   "metadata": {
    "jupyter": {
     "source_hidden": true
    },
    "tags": []
   },
   "outputs": [],
   "source": [
    "def partial_sum_fact(x, N):\n",
    "    coeffs = gamma(1 + np.arange(1+N))\n",
    "    return Polynomial(coeffs)(x)"
   ]
  },
  {
   "cell_type": "code",
   "execution_count": 17,
   "id": "3c6bf939-9b07-47bf-9270-7f34fe009823",
   "metadata": {
    "jupyter": {
     "source_hidden": true
    },
    "tags": []
   },
   "outputs": [
    {
     "data": {
      "application/vnd.jupyter.widget-view+json": {
       "model_id": "1ce83db67df041b5951399d71218ebd8",
       "version_major": 2,
       "version_minor": 0
      },
      "text/plain": [
       "Canvas(toolbar=Toolbar(toolitems=[('Home', 'Reset original view', 'home', 'home'), ('Back', 'Back to previous …"
      ]
     },
     "metadata": {},
     "output_type": "display_data"
    },
    {
     "data": {
      "application/vnd.jupyter.widget-view+json": {
       "model_id": "b9285272f5db418db8fe57029e32af44",
       "version_major": 2,
       "version_minor": 0
      },
      "text/plain": [
       "VBox(children=(HBox(children=(Play(value=0, max=170), IntSlider(value=0, description='N', max=170, readout=Fal…"
      ]
     },
     "metadata": {},
     "output_type": "display_data"
    }
   ],
   "source": [
    "fig, ax = plt.subplots()\n",
    "plt.grid()\n",
    "plt.subplots_adjust(bottom=0.25)#, left=0.2)\n",
    "\n",
    "xmin, xmax = -1.1, 1.1\n",
    "x = np.linspace(xmin, xmax, num=1 + int(res*(xmax - xmin)))\n",
    "\n",
    "controls = iplt.plot(x, partial_sum_fact, N=k[:171], ax=ax, ylim=[.5, 5], play_buttons=True, label=\"Partial Sum\", color=cycle_colors[0])\n",
    "controls1 = iplt.ylabel(\"$y = \\sum_{{n=0}}^{{{N}}} n! x^{{n}}$\", controls = controls[\"N\"])#, backgroundcolor=\"w\")\n",
    "\n",
    "plt.plot([0], [1], \"k.\")\n",
    "\n",
    "plt.legend(loc=\"upper left\")\n",
    "plt.tight_layout()\n",
    "plt.show()"
   ]
  },
  {
   "cell_type": "code",
   "execution_count": 18,
   "id": "2572e7f8-b56c-4dc7-a1ca-001dfb8a5c4a",
   "metadata": {
    "jupyter": {
     "source_hidden": true
    },
    "tags": []
   },
   "outputs": [],
   "source": [
    "# plt.close(plt.gcf())"
   ]
  }
 ],
 "metadata": {
  "kernelspec": {
   "display_name": "Python 3",
   "language": "python",
   "name": "python3"
  },
  "language_info": {
   "codemirror_mode": {
    "name": "ipython",
    "version": 3
   },
   "file_extension": ".py",
   "mimetype": "text/x-python",
   "name": "python",
   "nbconvert_exporter": "python",
   "pygments_lexer": "ipython3",
   "version": "3.9.6"
  }
 },
 "nbformat": 4,
 "nbformat_minor": 5
}
